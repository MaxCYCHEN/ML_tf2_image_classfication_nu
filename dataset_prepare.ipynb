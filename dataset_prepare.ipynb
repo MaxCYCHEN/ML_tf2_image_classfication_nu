{
 "cells": [
  {
   "cell_type": "markdown",
   "id": "4b4db748-4c88-47e2-aeef-ce9e508be873",
   "metadata": {},
   "source": [
    "# Dataset Prepare Example\n",
    "- Some dataset may need some adjustment for sutiable to our training notebooks `classification.ipynb`.\n",
    "- The training accept the below 2 style directory style:\n",
    "- \n",
    "<pre>\n",
    "    dataset-1/\n",
    "         ├─ train/ \n",
    "         │     ├─ Label-a/\n",
    "         │     ├─ Label-b/\n",
    "         │     ├ ...\n",
    "         │     ├─ Label-n-1/\n",
    "         │     └─ Label-n/\n",
    "         │\n",
    "         └─ validation/ \n",
    "               ├─ Label-a/\n",
    "               ├─ Label-b/\n",
    "               ├ ...\n",
    "               ├─ Label-n-1/\n",
    "               └─ Label-n/\n",
    "</pre>\n",
    "-\n",
    "<pre>\n",
    "    dataset-2/\n",
    "         ├─ Label-a/\n",
    "         ├─ Label-b/\n",
    "         ├ ...\n",
    "         ├─ Label-n-1/\n",
    "         └─ Label-n/\n",
    "</pre>\n",
    "       "
   ]
  },
  {
   "cell_type": "markdown",
   "id": "f95900e8-2544-4034-b542-67aa74c57b23",
   "metadata": {},
   "source": [
    "### Below will show food-101 downloading from our `classification.ipynb` notebook.\n",
    "- First step: download the dataset with `Dataset Name` as `food-101`. \n",
    "- Next, please stop the notebook and update `Dataset Name` input as `food-101/images`, because this dataset has 2 layers folders."
   ]
  },
  {
   "cell_type": "code",
   "execution_count": null,
   "id": "0286b975-79d2-4ece-9f7a-6057c6a77bdf",
   "metadata": {},
   "outputs": [],
   "source": []
  }
 ],
 "metadata": {
  "kernelspec": {
   "display_name": "Python 3 (ipykernel)",
   "language": "python",
   "name": "python3"
  },
  "language_info": {
   "codemirror_mode": {
    "name": "ipython",
    "version": 3
   },
   "file_extension": ".py",
   "mimetype": "text/x-python",
   "name": "python",
   "nbconvert_exporter": "python",
   "pygments_lexer": "ipython3",
   "version": "3.8.13"
  }
 },
 "nbformat": 4,
 "nbformat_minor": 5
}
