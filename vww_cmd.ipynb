{
 "cells": [
  {
   "cell_type": "code",
   "execution_count": 33,
   "id": "09053a54-caff-4f08-9d13-0d401a041378",
   "metadata": {},
   "outputs": [
    {
     "name": "stdout",
     "output_type": "stream",
     "text": [
      "(None, 1, 32, 32, 12)\n",
      "12\n",
      "(None, 1, 32, 32, 4)\n",
      "Model: \"model_4\"\n",
      "__________________________________________________________________________________________________\n",
      " Layer (type)                   Output Shape         Param #     Connected to                     \n",
      "==================================================================================================\n",
      " input_61 (InputLayer)          [(None, 1, 32, 32,   0           []                               \n",
      "                                12)]                                                              \n",
      "                                                                                                  \n",
      " dense_63 (Dense)               (None, 1, 32, 32, 1  156         ['input_61[0][0]']               \n",
      "                                2)                                                                \n",
      "                                                                                                  \n",
      " input_62 (InputLayer)          [(None, 1, 32, 32,   0           []                               \n",
      "                                16)]                                                              \n",
      "                                                                                                  \n",
      " some_name (Lambda)             (None, 1, 32, 32, 1  0           ['dense_63[0][0]']               \n",
      "                                6)                                                                \n",
      "                                                                                                  \n",
      " dense_64 (Dense)               (None, 1, 32, 32, 1  272         ['input_62[0][0]']               \n",
      "                                6)                                                                \n",
      "                                                                                                  \n",
      " add_8 (Add)                    (None, 1, 32, 32, 1  0           ['some_name[0][0]',              \n",
      "                                6)                                'dense_64[0][0]']               \n",
      "                                                                                                  \n",
      " dense_65 (Dense)               (None, 1, 32, 32, 4  68          ['add_8[0][0]']                  \n",
      "                                )                                                                 \n",
      "                                                                                                  \n",
      "==================================================================================================\n",
      "Total params: 496\n",
      "Trainable params: 496\n",
      "Non-trainable params: 0\n",
      "__________________________________________________________________________________________________\n",
      "(None, 1, 32, 32, 12)\n",
      "12\n",
      "(None, 1, 32, 32, 4)\n",
      "(None, 1, 32, 32, 12)\n",
      "12\n",
      "(None, 1, 32, 32, 4)\n",
      "(None, 1, 32, 32, 12)\n",
      "12\n",
      "(None, 1, 32, 32, 4)\n",
      "(None, 1, 32, 32, 12)\n",
      "12\n",
      "(None, 1, 32, 32, 4)\n",
      "(None, 1, 32, 32, 12)\n",
      "12\n",
      "(None, 1, 32, 32, 4)\n",
      "(None, 1, 32, 32, 12)\n",
      "12\n",
      "(None, 1, 32, 32, 4)\n",
      "(None, 1, 32, 32, 12)\n",
      "12\n",
      "(None, 1, 32, 32, 4)\n",
      "INFO:tensorflow:Assets written to: C:\\Users\\CYCHEN38\\AppData\\Local\\Temp\\tmps94kmhxt\\assets\n"
     ]
    },
    {
     "name": "stderr",
     "output_type": "stream",
     "text": [
      "INFO:tensorflow:Assets written to: C:\\Users\\CYCHEN38\\AppData\\Local\\Temp\\tmps94kmhxt\\assets\n"
     ]
    }
   ],
   "source": [
    "import keras\n",
    "from keras.layers.core import Lambda\n",
    "from keras import backend as K\n",
    "import tensorflow as tf\n",
    "\n",
    "input1 = keras.layers.Input(shape=(1,32,32,12))\n",
    "x1 = keras.layers.Dense(12, activation='relu')(input1)\n",
    "input2 = keras.layers.Input(shape=(1,32,32,16))\n",
    "x2 = keras.layers.Dense(16, activation='relu')(input2)\n",
    "\n",
    "\n",
    "def pad_depth(x, desired_channels):\n",
    "    y = K.zeros_like(x, name='pad_depth1')\n",
    "    print(y.shape)\n",
    "    print(x.shape.as_list()[-1])\n",
    "    new_channels = desired_channels - x.shape.as_list()[-1]\n",
    "    y = y[:,:,:,:,:new_channels]\n",
    "    print(y.shape)\n",
    "    return K.concatenate([x,y])\n",
    "desired_channels = x2.shape.as_list()[-1]\n",
    "\n",
    "x1 = Lambda(pad_depth, name='some_name', arguments={'desired_channels':desired_channels})(x1)\n",
    "\n",
    "\n",
    "\n",
    "added = keras.layers.add([x1, x2])\n",
    "\n",
    "out = keras.layers.Dense(4)(added)\n",
    "model = keras.models.Model(inputs=[input1, input2], outputs=out)\n",
    "model.summary()\n",
    "\n",
    "\n",
    "# Convert the model.\n",
    "converter = tf.lite.TFLiteConverter.from_keras_model(model)\n",
    "converter.optimizations = [tf.lite.Optimize.DEFAULT]\n",
    "tflite_model = converter.convert()\n",
    "\n",
    "# Save the model.\n",
    "with open('model.tflite', 'wb') as f:\n",
    "    f.write(tflite_model)"
   ]
  },
  {
   "cell_type": "code",
   "execution_count": 3,
   "id": "96fc4cf8-a1c3-45b8-8bb8-36567ef0ec69",
   "metadata": {},
   "outputs": [
    {
     "name": "stdout",
     "output_type": "stream",
     "text": [
      "[2.0]\n"
     ]
    }
   ],
   "source": [
    "\n",
    "info_dict = '2'\n",
    "learning_rate_list = list(map(float, info_dict.split(',')))\n",
    "print(learning_rate_list)"
   ]
  },
  {
   "cell_type": "markdown",
   "id": "582b0351-1c28-4d68-b176-06d925065b62",
   "metadata": {},
   "source": [
    "# convert cocodaset to VWW"
   ]
  },
  {
   "cell_type": "code",
   "execution_count": null,
   "id": "11387b43-44c7-4cc9-86ca-2ac5d6db7814",
   "metadata": {},
   "outputs": [],
   "source": [
    "python create_coco_vww_tf_record.py --logtostderr --train_image_dir=C:\\Users\\USER\\image_classification\\ML_tf2_object_detection_nu\\image_dataset\\coco-2017\\train\\data --val_image_dir=C:\\Users\\USER\\image_classification\\ML_tf2_object_detection_nu\\image_dataset\\coco-2017\\validation\\data --train_annotations_file=C:\\Users\\USER\\image_classification\\ML_tf2_object_detection_nu\\image_dataset\\coco-2017\\raw\\instances_train2017.json --val_annotations_file=C:\\Users\\USER\\image_classification\\ML_tf2_object_detection_nu\\image_dataset\\coco-2017\\raw\\instances_val2017.json --output_dir=vww"
   ]
  },
  {
   "cell_type": "markdown",
   "id": "822ed1c4-957f-4d3f-a30f-1cbd0ca9d009",
   "metadata": {},
   "source": [
    "# Train"
   ]
  },
  {
   "cell_type": "code",
   "execution_count": null,
   "id": "f1ab9bca-8d1e-4038-967f-6f99462743c6",
   "metadata": {},
   "outputs": [],
   "source": [
    "python train_vww.py --proj_name vww_person_96_035_v2_rgb --dataset vww_coco --switch_mode 2 --model-prefix mobilenetv2 --learning-rate 0.0001 --alpha 0.35"
   ]
  },
  {
   "cell_type": "code",
   "execution_count": null,
   "id": "6617f2c7-559a-4af2-b75c-f6eaded33c52",
   "metadata": {},
   "outputs": [],
   "source": [
    "python train_vww.py --proj_name test_rgb --dataset vww_coco --switch_mode 1 --model-prefix mobilenetv2 --learning-rate 0.0001 --alpha 0.35"
   ]
  },
  {
   "cell_type": "code",
   "execution_count": null,
   "id": "2a51da9c-97c0-4018-ba7d-f7c2525cb9db",
   "metadata": {},
   "outputs": [],
   "source": [
    "python train_vww.py --proj_name vww_person_96_with_normal_v2 --dataset vww_coco --switch_mode 1 --model-prefix mobilenetv2 --learning-rate 0.00001 --alpha 0.25 --COLOR_MODE grayscale"
   ]
  }
 ],
 "metadata": {
  "kernelspec": {
   "display_name": "Python 3 (ipykernel)",
   "language": "python",
   "name": "python3"
  },
  "language_info": {
   "codemirror_mode": {
    "name": "ipython",
    "version": 3
   },
   "file_extension": ".py",
   "mimetype": "text/x-python",
   "name": "python",
   "nbconvert_exporter": "python",
   "pygments_lexer": "ipython3",
   "version": "3.8.13"
  }
 },
 "nbformat": 4,
 "nbformat_minor": 5
}
