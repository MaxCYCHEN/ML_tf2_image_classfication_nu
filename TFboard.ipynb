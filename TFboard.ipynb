{
 "cells": [
  {
   "cell_type": "code",
   "execution_count": 1,
   "id": "25c5fa47-1043-49f5-99ea-c62e4a8d97e0",
   "metadata": {},
   "outputs": [],
   "source": [
    "%load_ext tensorboard"
   ]
  },
  {
   "cell_type": "code",
   "execution_count": 3,
   "id": "91d750c3-f7f1-4e09-bc44-60caf3647d8b",
   "metadata": {},
   "outputs": [
    {
     "data": {
      "text/plain": [
       "Reusing TensorBoard on port 6006 (pid 16628), started 1:51:50 ago. (Use '!kill 16628' to kill it.)"
      ]
     },
     "metadata": {},
     "output_type": "display_data"
    },
    {
     "data": {
      "text/html": [
       "\n",
       "      <iframe id=\"tensorboard-frame-e6b263c0337aadb9\" width=\"100%\" height=\"800\" frameborder=\"0\">\n",
       "      </iframe>\n",
       "      <script>\n",
       "        (function() {\n",
       "          const frame = document.getElementById(\"tensorboard-frame-e6b263c0337aadb9\");\n",
       "          const url = new URL(\"/\", window.location);\n",
       "          const port = 6006;\n",
       "          if (port) {\n",
       "            url.port = port;\n",
       "          }\n",
       "          frame.src = url;\n",
       "        })();\n",
       "      </script>\n",
       "    "
      ],
      "text/plain": [
       "<IPython.core.display.HTML object>"
      ]
     },
     "metadata": {},
     "output_type": "display_data"
    }
   ],
   "source": [
    "%tensorboard --logdir workspace/catsdogs/logs"
   ]
  },
  {
   "cell_type": "markdown",
   "id": "e4545c70-8e35-4af2-96a2-0318c31928fe",
   "metadata": {},
   "source": [
    "# If there is an issue of TFboard or you want kill the port on Windows. \n",
    "### - Please use the below cmds on in any command prompt (`cmd.exe`)\n",
    "### - And restart the JupyterLab"
   ]
  },
  {
   "cell_type": "code",
   "execution_count": null,
   "id": "934ea76c-c0d8-4332-9b97-5da6519dea74",
   "metadata": {},
   "outputs": [],
   "source": [
    "taskkill /im tensorboard.exe /f"
   ]
  },
  {
   "cell_type": "code",
   "execution_count": null,
   "id": "a9b71cf1-f66a-4473-98c4-c5f94736bd7a",
   "metadata": {},
   "outputs": [],
   "source": [
    "del /q %TMP%\\.tensorboard-info\\*"
   ]
  },
  {
   "cell_type": "code",
   "execution_count": null,
   "id": "14494264-f945-46a6-a8bf-b90928156e0a",
   "metadata": {},
   "outputs": [
    {
     "name": "stdout",
     "output_type": "stream",
     "text": [
      "TensorBoard 2.10.1 started at http://OANBE03983.nuvoton.com:6006/\n",
      "PID = 18948; use 'kill 18948' to quit\n"
     ]
    }
   ],
   "source": [
    "import os\n",
    "import time\n",
    "\n",
    "import tensorboard\n",
    "\n",
    "my_logdir = \"workspace/catsdogs/logs\"\n",
    "def main():\n",
    "    tb = tensorboard.program.TensorBoard()\n",
    "    tb.configure(bind_all=True, logdir=my_logdir)\n",
    "    url = tb.launch()\n",
    "    print(\"TensorBoard %s started at %s\" % (tensorboard.__version__, url))\n",
    "    pid = os.getpid()\n",
    "    print(\"PID = %d; use 'kill %d' to quit\" % (pid, pid))\n",
    "    while True:\n",
    "        try:\n",
    "            time.sleep(60)\n",
    "        except KeyboardInterrupt:\n",
    "            break\n",
    "    print()\n",
    "    print(\"Shutting down\")\n",
    "\n",
    "\n",
    "\n",
    "main()"
   ]
  },
  {
   "cell_type": "code",
   "execution_count": null,
   "id": "d8b460b6-6745-4654-aab2-73ff6fbed01c",
   "metadata": {},
   "outputs": [],
   "source": [
    "tensorboard --logdir logs"
   ]
  }
 ],
 "metadata": {
  "kernelspec": {
   "display_name": "Python 3 (ipykernel)",
   "language": "python",
   "name": "python3"
  },
  "language_info": {
   "codemirror_mode": {
    "name": "ipython",
    "version": 3
   },
   "file_extension": ".py",
   "mimetype": "text/x-python",
   "name": "python",
   "nbconvert_exporter": "python",
   "pygments_lexer": "ipython3",
   "version": "3.8.13"
  }
 },
 "nbformat": 4,
 "nbformat_minor": 5
}
