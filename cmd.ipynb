{
 "cells": [
  {
   "cell_type": "markdown",
   "id": "b50deba9-b090-4bf5-87f4-b62f54aa9c2d",
   "metadata": {},
   "source": [
    "# Use scripts directly"
   ]
  },
  {
   "cell_type": "markdown",
   "id": "71b7fed2-6610-4265-8601-6131d26b3d96",
   "metadata": {},
   "source": [
    "## Run train script"
   ]
  },
  {
   "cell_type": "code",
   "execution_count": null,
   "id": "91936dba-c33a-43d1-9dcd-592079e54b2d",
   "metadata": {},
   "outputs": [],
   "source": [
    "dataset_url = \"https://storage.googleapis.com/download.tensorflow.org/example_images/flower_photos.tgz\"\n",
    "#zip_name = \"cats_and_dogs.zip\"\n",
    "#dataset_name = \"cats_and_dogs_filtered\"\n",
    "zip_name = \"flower_photos.tgz\"\n",
    "dataset_name = \"flower_photos\"\n",
    "\n",
    "%run train.py --data_exist True --_URL $dataset_url --zip_name $zip_name --dataset_name $dataset_name --switch_mode 3 --IMG_SIZE 224 --EPOCHS 5,5 --proj_name flowers"
   ]
  },
  {
   "cell_type": "markdown",
   "id": "b2ed688d-8080-43a2-bee2-b7b7e9b11888",
   "metadata": {},
   "source": [
    "## Convert the rgb plots to c source file\n",
    "- below at `dataset`"
   ]
  },
  {
   "cell_type": "markdown",
   "id": "97da34f4-1160-4eda-a498-256d28c041a8",
   "metadata": {},
   "source": [
    "- convert the image"
   ]
  },
  {
   "cell_type": "code",
   "execution_count": null,
   "id": "8a603771-3fcf-475a-b3ce-93e01975069d",
   "metadata": {},
   "outputs": [],
   "source": [
    "python gen_rgb_cpp.py --image_path rgb_cpp_flower\\rgb_plt --source_folder_path rgb_cpp_flower\\1 --header_folder_path rgb_cpp_flower\\1 --image_size 224 224"
   ]
  },
  {
   "cell_type": "markdown",
   "id": "7aa9f0df-3609-4f13-9eda-6a944933125a",
   "metadata": {},
   "source": [
    "- convert the tfrecord"
   ]
  },
  {
   "cell_type": "code",
   "execution_count": null,
   "id": "e6dff119-aadc-48fc-b843-6f328790a9a0",
   "metadata": {},
   "outputs": [],
   "source": [
    "python gen_rgb_cpp.py --image_path datasets\\flower_photos --source_folder_path rgb_cpp_flower\\2 --header_folder_path rgb_cpp_flower\\2 --image_size 224 224 --mode 1"
   ]
  },
  {
   "cell_type": "code",
   "execution_count": null,
   "id": "1486003b-b764-4831-969b-abce3e456224",
   "metadata": {},
   "outputs": [],
   "source": [
    "python gen_rgb_cpp.py --image_path datasets\\cats_and_dogs_filtered --source_folder_path rgb_cpp_dogcat\\160_tf --header_folder_path rgb_cpp_dogcat\\160_tf --mode 1"
   ]
  },
  {
   "cell_type": "markdown",
   "id": "de6afd32-4cb6-4906-b9d3-8fd2c3924afe",
   "metadata": {},
   "source": [
    "## Convert the labels to c source/header file\n",
    "- below at `dataset`"
   ]
  },
  {
   "cell_type": "code",
   "execution_count": null,
   "id": "f6cb70bf-2e38-402b-92d2-00fde732dc92",
   "metadata": {},
   "outputs": [],
   "source": [
    "python gen_labels_cpp.py --labels_dataset_name flower_photos --source_folder_path ..\\workspace\\flowers\\tflite_model --header_folder_path ..\\workspace\\flowers\\tflite_model"
   ]
  },
  {
   "cell_type": "markdown",
   "id": "a2b65bf1-e8f3-4130-a6a7-8d47d5507cac",
   "metadata": {},
   "source": [
    "## Convert to vela c source file\n"
   ]
  },
  {
   "cell_type": "code",
   "execution_count": null,
   "id": "1016b7f1-172f-4baf-9d7f-60fa88cef3ef",
   "metadata": {},
   "outputs": [],
   "source": [
    "%run exebat.py"
   ]
  }
 ],
 "metadata": {
  "kernelspec": {
   "display_name": "Python 3 (ipykernel)",
   "language": "python",
   "name": "python3"
  },
  "language_info": {
   "codemirror_mode": {
    "name": "ipython",
    "version": 3
   },
   "file_extension": ".py",
   "mimetype": "text/x-python",
   "name": "python",
   "nbconvert_exporter": "python",
   "pygments_lexer": "ipython3",
   "version": "3.8.13"
  }
 },
 "nbformat": 4,
 "nbformat_minor": 5
}
